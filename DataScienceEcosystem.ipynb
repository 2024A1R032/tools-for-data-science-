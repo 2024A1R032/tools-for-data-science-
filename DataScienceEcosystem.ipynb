{
 "cells": [
  {
   "cell_type": "markdown",
   "metadata": {},
   "source": ["# Data Science Tools and Ecosystem"]
  },
  {
   "cell_type": "markdown",
   "metadata": {},
   "source": ["In this notebook, Data Science Tools and Ecosystem are summarized."]
  },
  {
   "cell_type": "markdown",
   "metadata": {},
   "source": ["Some of the popular languages that Data Scientists use are:\n",
              "1. Python\n",
              "2. R\n",
              "3. SQL\n",
              "4. Julia"]
  },
  {
   "cell_type": "markdown",
   "metadata": {},
   "source": ["Some of the commonly used libraries used by Data Scientists include:\n",
              "1. Pandas\n",
              "2. NumPy\n",
              "3. Scikit-learn\n",
              "4. Matplotlib"]
  },
  {
   "cell_type": "markdown",
   "metadata": {},
   "source": ["| Data Science Tools |\n",
              "|---------------------|\n",
              "| Jupyter Notebook    |\n",
              "| RStudio             |\n",
              "| Apache Spark        |"]
  },
  {
   "cell_type": "markdown",
   "metadata": {},
   "source": ["### Below are a few examples of evaluating arithmetic expressions in Python."]
  },
  {
   "cell_type": "code",
   "metadata": {},
   "source": ["# This is a simple arithmetic expression to multiply then add integers\n",
              "(3*4)+5"],
   "outputs": [],
   "execution_count": null
  },
  {
   "cell_type": "code",
   "metadata": {},
   "source": ["# This will convert 200 minutes to hours by dividing by 60\n",
              "200/60"],
   "outputs": [],
   "execution_count": null
  },
  {
   "cell_type": "markdown",
   "metadata": {},
   "source": ["**Objectives:**\n",
              "- List popular languages for Data Science\n",
              "- List commonly used libraries by Data Scientists\n",
              "- Create a table of Data Science tools\n",
              "- Show examples of arithmetic expressions in Python\n",
              "- Convert minutes to hours using Python"]
  },
  {
   "cell_type": "markdown",
   "metadata": {},
   "source": ["## Author\n",
              "Abhimanyu Bhat"]
  }
 ],
 "metadata": {
  "kernelspec": {
   "display_name": "Python 3",
   "language": "python",
   "name": "python3"
  },
  "language_info": {
   "name": "python",
   "version": "3.10"
  }
 },
 "nbformat": 4,
 "nbformat_minor": 5
}
